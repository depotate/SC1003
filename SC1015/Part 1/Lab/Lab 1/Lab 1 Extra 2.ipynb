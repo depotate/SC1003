{
 "cells": [
  {
   "cell_type": "code",
   "execution_count": 35,
   "id": "6201c511",
   "metadata": {},
   "outputs": [],
   "source": [
    "import numpy as np\n",
    "import pandas as pd"
   ]
  },
  {
   "cell_type": "code",
   "execution_count": 36,
   "id": "aff82499",
   "metadata": {},
   "outputs": [],
   "source": [
    "# yearno = \"https://en.wikipedia.org/wiki/2016_Summer_Olympics_medal_table\"\n",
    "# year_stats = pd.read_html(yearno)"
   ]
  },
  {
   "cell_type": "code",
   "execution_count": 37,
   "id": "db98d984",
   "metadata": {},
   "outputs": [],
   "source": [
    "# year_stats[2]"
   ]
  },
  {
   "cell_type": "code",
   "execution_count": 38,
   "id": "4ebb58e4",
   "metadata": {},
   "outputs": [],
   "source": [
    "tables = []\n",
    "for i in range (2000,2016+1, 4):\n",
    "    data = pd.read_html(\"https://en.wikipedia.org/wiki/\" + str(i) + \"_Summer_Olympics_medal_table\")\n",
    "    tables.append(data[2])"
   ]
  },
  {
   "cell_type": "code",
   "execution_count": 39,
   "id": "d84f1720",
   "metadata": {},
   "outputs": [
    {
     "name": "stdout",
     "output_type": "stream",
     "text": [
      "                   Rank               Nation  Gold  Silver  Bronze  Total\n",
      "0                     1        United States    37      24      32     93\n",
      "1                     2               Russia    32      28      29     89\n",
      "2                     3                China    28      16      14     58\n",
      "3                     4           Australia*    16      25      17     58\n",
      "4                     5              Germany    13      17      26     56\n",
      "..                  ...                  ...   ...     ...     ...    ...\n",
      "76                   71               Kuwait     0       0       1      1\n",
      "77                   71           Kyrgyzstan     0       0       1      1\n",
      "78                   71            Macedonia     0       0       1      1\n",
      "79                   71                Qatar     0       0       1      1\n",
      "80  Totals (80 entries)  Totals (80 entries)   300     300     327    927\n",
      "\n",
      "[81 rows x 6 columns]\n",
      "\n",
      "\n",
      "                   Rank               Nation  Gold  Silver  Bronze  Total\n",
      "0                     1        United States    36      39      26    101\n",
      "1                     2                China    32      17      14     63\n",
      "2                     3               Russia    28      26      36     90\n",
      "3                     4            Australia    17      16      17     50\n",
      "4                     5                Japan    16       9      12     37\n",
      "..                  ...                  ...   ...     ...     ...    ...\n",
      "70                   71              Eritrea     0       0       1      1\n",
      "71                   71             Mongolia     0       0       1      1\n",
      "72                   71                Syria     0       0       1      1\n",
      "73                   71  Trinidad and Tobago     0       0       1      1\n",
      "74  Totals (74 entries)  Totals (74 entries)   301     300     326    927\n",
      "\n",
      "[75 rows x 6 columns]\n",
      "\n",
      "\n",
      "                   Rank                  NOC  Gold  Silver  Bronze  Total\n",
      "0                     1               China*    48      22      30    100\n",
      "1                     2        United States    36      39      37    112\n",
      "2                     3               Russia    24      13      23     60\n",
      "3                     4        Great Britain    19      13      19     51\n",
      "4                     5              Germany    16      11      14     41\n",
      "..                  ...                  ...   ...     ...     ...    ...\n",
      "83                   82            Mauritius     0       0       1      1\n",
      "84                   82              Moldova     0       0       1      1\n",
      "85                   82                 Togo     0       0       1      1\n",
      "86                   82            Venezuela     0       0       1      1\n",
      "87  Totals (87 entries)  Totals (87 entries)   302     303     353    958\n",
      "\n",
      "[88 rows x 6 columns]\n",
      "\n",
      "\n",
      "                   Rank                  NOC  Gold  Silver  Bronze  Total\n",
      "0                     1        United States    47      27      30    104\n",
      "1                     2                China    39      31      22     92\n",
      "2                     3       Great Britain*    29      18      18     65\n",
      "3                     4               Russia    18      21      27     66\n",
      "4                     5          South Korea    13       9       8     30\n",
      "..                  ...                  ...   ...     ...     ...    ...\n",
      "82                   79              Morocco     0       0       1      1\n",
      "83                   79         Saudi Arabia     0       0       1      1\n",
      "84                   79           Tajikistan     0       0       1      1\n",
      "85                   79              Vietnam     0       0       1      1\n",
      "86  Totals (86 entries)  Totals (86 entries)   302     305     353    960\n",
      "\n",
      "[87 rows x 6 columns]\n",
      "\n",
      "\n"
     ]
    }
   ],
   "source": [
    "for i in range (0, 4):\n",
    "    print(tables[i])\n",
    "    print('\\n')"
   ]
  },
  {
   "cell_type": "code",
   "execution_count": null,
   "id": "4db8bc49",
   "metadata": {},
   "outputs": [],
   "source": []
  }
 ],
 "metadata": {
  "kernelspec": {
   "display_name": "Python 3 (ipykernel)",
   "language": "python",
   "name": "python3"
  },
  "language_info": {
   "codemirror_mode": {
    "name": "ipython",
    "version": 3
   },
   "file_extension": ".py",
   "mimetype": "text/x-python",
   "name": "python",
   "nbconvert_exporter": "python",
   "pygments_lexer": "ipython3",
   "version": "3.9.13"
  }
 },
 "nbformat": 4,
 "nbformat_minor": 5
}
