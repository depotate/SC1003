{
 "cells": [
  {
   "cell_type": "code",
   "execution_count": 16,
   "id": "83dfbdee",
   "metadata": {},
   "outputs": [],
   "source": [
    "import random"
   ]
  },
  {
   "cell_type": "code",
   "execution_count": 17,
   "id": "78e45274",
   "metadata": {},
   "outputs": [],
   "source": [
    "grades = [random.randint(0,100) for i in range(1,41)]"
   ]
  },
  {
   "cell_type": "code",
   "execution_count": 3,
   "id": "38ba1da5",
   "metadata": {},
   "outputs": [],
   "source": [
    "student = list(range(1,41))"
   ]
  },
  {
   "cell_type": "code",
   "execution_count": null,
   "id": "1adfaea8",
   "metadata": {},
   "outputs": [],
   "source": [
    "class1 = [FE]\n",
    "class1grades = zip(FE, students)"
   ]
  },
  {
   "cell_type": "code",
   "execution_count": null,
   "id": "5ea308cb",
   "metadata": {},
   "outputs": [],
   "source": []
  },
  {
   "cell_type": "code",
   "execution_count": 19,
   "id": "9a322e3f",
   "metadata": {},
   "outputs": [],
   "source": [
    "modified = zip(student,grades)"
   ]
  },
  {
   "cell_type": "code",
   "execution_count": 20,
   "id": "bc844dd9",
   "metadata": {},
   "outputs": [],
   "source": [
    "studentgrades = dict(modified)"
   ]
  },
  {
   "cell_type": "code",
   "execution_count": 21,
   "id": "a16c12d1",
   "metadata": {},
   "outputs": [
    {
     "data": {
      "text/plain": [
       "69"
      ]
     },
     "execution_count": 21,
     "metadata": {},
     "output_type": "execute_result"
    }
   ],
   "source": [
    "studentgrades[1]"
   ]
  },
  {
   "cell_type": "code",
   "execution_count": 22,
   "id": "83c3207e",
   "metadata": {},
   "outputs": [
    {
     "data": {
      "text/plain": [
       "dict_keys([1, 2, 3, 4, 5, 6, 7, 8, 9, 10, 11, 12, 13, 14, 15, 16, 17, 18, 19, 20, 21, 22, 23, 24, 25, 26, 27, 28, 29, 30, 31, 32, 33, 34, 35, 36, 37, 38, 39, 40])"
      ]
     },
     "execution_count": 22,
     "metadata": {},
     "output_type": "execute_result"
    }
   ],
   "source": [
    "studentgrades.keys()"
   ]
  },
  {
   "cell_type": "code",
   "execution_count": 23,
   "id": "599c754d",
   "metadata": {},
   "outputs": [
    {
     "data": {
      "text/plain": [
       "dict_values([69, 52, 80, 15, 56, 65, 39, 94, 76, 5, 97, 7, 75, 60, 26, 63, 63, 39, 54, 94, 55, 99, 38, 1, 60, 31, 45, 3, 38, 0, 52, 57, 12, 57, 94, 52, 0, 85, 82, 89])"
      ]
     },
     "execution_count": 23,
     "metadata": {},
     "output_type": "execute_result"
    }
   ],
   "source": [
    "studentgrades.values()"
   ]
  },
  {
   "cell_type": "code",
   "execution_count": null,
   "id": "0530c455",
   "metadata": {},
   "outputs": [],
   "source": []
  },
  {
   "cell_type": "code",
   "execution_count": null,
   "id": "7b4d2250",
   "metadata": {},
   "outputs": [],
   "source": []
  }
 ],
 "metadata": {
  "kernelspec": {
   "display_name": "Python 3.10.6 64-bit",
   "language": "python",
   "name": "python3"
  },
  "language_info": {
   "codemirror_mode": {
    "name": "ipython",
    "version": 3
   },
   "file_extension": ".py",
   "mimetype": "text/x-python",
   "name": "python",
   "nbconvert_exporter": "python",
   "pygments_lexer": "ipython3",
   "version": "3.10.6"
  },
  "vscode": {
   "interpreter": {
    "hash": "a30a4be77f508384af2b6154f70e125aaf176fc66b2c028711e2ba23c42971ea"
   }
  }
 },
 "nbformat": 4,
 "nbformat_minor": 5
}
