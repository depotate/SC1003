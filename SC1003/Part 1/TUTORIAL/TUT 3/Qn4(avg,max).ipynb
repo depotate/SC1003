{
 "cells": [
  {
   "cell_type": "code",
   "execution_count": 10,
   "id": "cc0316f3",
   "metadata": {},
   "outputs": [],
   "source": [
    "import random\n",
    "#assume 20 student in both classes"
   ]
  },
  {
   "cell_type": "code",
   "execution_count": 11,
   "id": "9dd8b834",
   "metadata": {},
   "outputs": [
    {
     "name": "stdout",
     "output_type": "stream",
     "text": [
      "[9, 84, 64, 37, 12, 44, 27, 27, 76, 58, 60, 97, 20, 69, 75, 15, 93, 35, 48, 6]\n"
     ]
    }
   ],
   "source": [
    "class1grades = list(random.randint(0,100) for i in range (1,21))\n",
    "#check\n",
    "print(class1grades)"
   ]
  },
  {
   "cell_type": "code",
   "execution_count": 12,
   "id": "86877c67",
   "metadata": {},
   "outputs": [
    {
     "name": "stdout",
     "output_type": "stream",
     "text": [
      "[26, 49, 27, 8, 59, 29, 65, 29, 93, 67, 6, 91, 13, 9, 70, 99, 14, 72, 0, 98]\n"
     ]
    }
   ],
   "source": [
    "class2grades = list(random.randint(0,100) for i in range(1,21))\n",
    "#check\n",
    "print(class2grades)"
   ]
  },
  {
   "cell_type": "code",
   "execution_count": 17,
   "id": "fdc16846",
   "metadata": {},
   "outputs": [
    {
     "data": {
      "text/plain": [
       "47.8"
      ]
     },
     "execution_count": 17,
     "metadata": {},
     "output_type": "execute_result"
    }
   ],
   "source": [
    "class1average = sum(class1grades)/20\n",
    "\n",
    "class1average"
   ]
  },
  {
   "cell_type": "code",
   "execution_count": 16,
   "id": "d60c8cab",
   "metadata": {},
   "outputs": [
    {
     "data": {
      "text/plain": [
       "46.2"
      ]
     },
     "execution_count": 16,
     "metadata": {},
     "output_type": "execute_result"
    }
   ],
   "source": [
    "class2average = sum(class2grades)/20\n",
    "\n",
    "class2average"
   ]
  },
  {
   "cell_type": "code",
   "execution_count": 24,
   "id": "7a5d4c34",
   "metadata": {},
   "outputs": [
    {
     "name": "stdout",
     "output_type": "stream",
     "text": [
      "Class 1 average is higher than Class 2.\n"
     ]
    }
   ],
   "source": [
    "if class1average < class2average:\n",
    "    print(\"Class 2 average is higher than Class 1.\")\n",
    "    \n",
    "elif class1average == class2average:\n",
    "    print(\"Both classes have the same average.\")\n",
    "        \n",
    "else:\n",
    "    print(\"Class 1 average is higher than Class 2.\")"
   ]
  },
  {
   "cell_type": "code",
   "execution_count": 29,
   "id": "d552aa2d",
   "metadata": {},
   "outputs": [
    {
     "data": {
      "text/plain": [
       "[6, 9, 12, 15, 20, 27, 27, 35, 37, 44, 48, 58, 60, 64, 69, 75, 76, 84, 93, 97]"
      ]
     },
     "execution_count": 29,
     "metadata": {},
     "output_type": "execute_result"
    }
   ],
   "source": [
    "class1grades.sort()\n",
    "class1grades\n",
    "#largest number will be at the end"
   ]
  },
  {
   "cell_type": "code",
   "execution_count": 30,
   "id": "d9a1cc77",
   "metadata": {},
   "outputs": [
    {
     "data": {
      "text/plain": [
       "[0, 6, 8, 9, 13, 14, 26, 27, 29, 29, 49, 59, 65, 67, 70, 72, 91, 93, 98, 99]"
      ]
     },
     "execution_count": 30,
     "metadata": {},
     "output_type": "execute_result"
    }
   ],
   "source": [
    "class2grades.sort()\n",
    "class2grades\n",
    "#largest number will be at the end"
   ]
  },
  {
   "cell_type": "code",
   "execution_count": 31,
   "id": "36f6ce7d",
   "metadata": {},
   "outputs": [
    {
     "name": "stdout",
     "output_type": "stream",
     "text": [
      "Class 2 has the highest score.\n"
     ]
    }
   ],
   "source": [
    "if class1grades[-1] < class2grades[-1]:\n",
    "    print(\"Class 2 has the highest score.\")\n",
    "    \n",
    "elif class1grades[-1] == class2grades[-1]:\n",
    "    print(\"Both classes have the same highest score.\")\n",
    "        \n",
    "else:\n",
    "    print(\"Class 1 has the highest score\")"
   ]
  },
  {
   "cell_type": "code",
   "execution_count": null,
   "id": "2d54cbaa",
   "metadata": {},
   "outputs": [],
   "source": []
  }
 ],
 "metadata": {
  "kernelspec": {
   "display_name": "Python 3.10.6 64-bit",
   "language": "python",
   "name": "python3"
  },
  "language_info": {
   "codemirror_mode": {
    "name": "ipython",
    "version": 3
   },
   "file_extension": ".py",
   "mimetype": "text/x-python",
   "name": "python",
   "nbconvert_exporter": "python",
   "pygments_lexer": "ipython3",
   "version": "3.10.6"
  },
  "vscode": {
   "interpreter": {
    "hash": "a30a4be77f508384af2b6154f70e125aaf176fc66b2c028711e2ba23c42971ea"
   }
  }
 },
 "nbformat": 4,
 "nbformat_minor": 5
}
