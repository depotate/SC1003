{
 "cells": [
  {
   "cell_type": "code",
   "execution_count": 8,
   "id": "11f500ed",
   "metadata": {},
   "outputs": [],
   "source": [
    "correctlist=[]\n",
    "squarenumber = [x**2 for x in range(1,101)]"
   ]
  },
  {
   "cell_type": "code",
   "execution_count": 1,
   "id": "c1bfec51",
   "metadata": {},
   "outputs": [],
   "source": [
    "#FASTER METHOD(soln) -> squarenumber = [x**2 for x in range(1,101) if x**2/3 == 0]"
   ]
  },
  {
   "cell_type": "code",
   "execution_count": 12,
   "id": "67b91134",
   "metadata": {},
   "outputs": [],
   "source": [
    "for test in squarenumber:\n",
    "    if test%3 == 0:\n",
    "        correctlist.append(test)"
   ]
  },
  {
   "cell_type": "code",
   "execution_count": 14,
   "id": "097c17aa",
   "metadata": {},
   "outputs": [
    {
     "data": {
      "text/plain": [
       "[9,\n",
       " 36,\n",
       " 81,\n",
       " 144,\n",
       " 225,\n",
       " 324,\n",
       " 441,\n",
       " 576,\n",
       " 729,\n",
       " 900,\n",
       " 1089,\n",
       " 1296,\n",
       " 1521,\n",
       " 1764,\n",
       " 2025,\n",
       " 2304,\n",
       " 2601,\n",
       " 2916,\n",
       " 3249,\n",
       " 3600,\n",
       " 3969,\n",
       " 4356,\n",
       " 4761,\n",
       " 5184,\n",
       " 5625,\n",
       " 6084,\n",
       " 6561,\n",
       " 7056,\n",
       " 7569,\n",
       " 8100,\n",
       " 8649,\n",
       " 9216,\n",
       " 9801]"
      ]
     },
     "execution_count": 14,
     "metadata": {},
     "output_type": "execute_result"
    }
   ],
   "source": [
    "correctlist"
   ]
  },
  {
   "cell_type": "code",
   "execution_count": null,
   "id": "d92839bd",
   "metadata": {},
   "outputs": [],
   "source": []
  }
 ],
 "metadata": {
  "kernelspec": {
   "display_name": "Python 3.10.6 64-bit",
   "language": "python",
   "name": "python3"
  },
  "language_info": {
   "codemirror_mode": {
    "name": "ipython",
    "version": 3
   },
   "file_extension": ".py",
   "mimetype": "text/x-python",
   "name": "python",
   "nbconvert_exporter": "python",
   "pygments_lexer": "ipython3",
   "version": "3.10.6"
  },
  "vscode": {
   "interpreter": {
    "hash": "a30a4be77f508384af2b6154f70e125aaf176fc66b2c028711e2ba23c42971ea"
   }
  }
 },
 "nbformat": 4,
 "nbformat_minor": 5
}
