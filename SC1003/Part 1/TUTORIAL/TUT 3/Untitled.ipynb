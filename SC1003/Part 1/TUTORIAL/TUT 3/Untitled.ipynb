{
 "cells": [
  {
   "cell_type": "code",
   "execution_count": 1,
   "id": "39c43eeb",
   "metadata": {},
   "outputs": [
    {
     "name": "stdout",
     "output_type": "stream",
     "text": [
      "2\n"
     ]
    }
   ],
   "source": [
    "# for 2 Classes, FE and AG, 40 students, grades(just use random)\n",
    "#idea is to assign class as key, value as dictionary/tuple of (reg no., score)\n",
    "\n",
    "import random\n",
    "classFE_grades = [random.randint(0,100) for x in range(1,41) ]\n",
    "classAG_grades = [random.randint(0,100) for y in range(1,41)]\n",
    "\n",
    "\n",
    "classFE_reg = [x for x in range(0,41)]\n",
    "\n",
    "classAG_reg = [y for y in range(0,41)]\n",
    "\n",
    "newzipFE = zip(classFE_reg, classFE_grades)\n",
    "\n",
    "newzipAG = zip(classAG_reg, classAG_grades)\n",
    "\n",
    "FE_dict = dict(newzipFE)\n",
    "\n",
    "print(FE_dict[5])\n",
    "\n",
    "class_dict = {}\n",
    "class_dict['FE'] = FE_dict"
   ]
  },
  {
   "cell_type": "code",
   "execution_count": 2,
   "id": "62b5b4e5",
   "metadata": {},
   "outputs": [
    {
     "data": {
      "text/plain": [
       "dict_items([('FE', {0: 41, 1: 42, 2: 93, 3: 76, 4: 99, 5: 2, 6: 89, 7: 51, 8: 17, 9: 40, 10: 23, 11: 24, 12: 53, 13: 39, 14: 61, 15: 24, 16: 31, 17: 98, 18: 1, 19: 36, 20: 43, 21: 43, 22: 81, 23: 43, 24: 67, 25: 63, 26: 2, 27: 92, 28: 86, 29: 73, 30: 10, 31: 75, 32: 65, 33: 37, 34: 70, 35: 39, 36: 55, 37: 39, 38: 86, 39: 88})])"
      ]
     },
     "execution_count": 2,
     "metadata": {},
     "output_type": "execute_result"
    }
   ],
   "source": [
    "class_dict.items()"
   ]
  },
  {
   "cell_type": "code",
   "execution_count": 5,
   "id": "552866ca",
   "metadata": {},
   "outputs": [
    {
     "data": {
      "text/plain": [
       "2"
      ]
     },
     "execution_count": 5,
     "metadata": {},
     "output_type": "execute_result"
    }
   ],
   "source": [
    "class_dict['FE'][5]"
   ]
  },
  {
   "cell_type": "code",
   "execution_count": 6,
   "id": "50a3a0e7",
   "metadata": {},
   "outputs": [
    {
     "ename": "KeyError",
     "evalue": "'er'",
     "output_type": "error",
     "traceback": [
      "\u001b[1;31m---------------------------------------------------------------------------\u001b[0m",
      "\u001b[1;31mKeyError\u001b[0m                                  Traceback (most recent call last)",
      "Input \u001b[1;32mIn [6]\u001b[0m, in \u001b[0;36m<cell line: 1>\u001b[1;34m()\u001b[0m\n\u001b[1;32m----> 1\u001b[0m \u001b[43mclass_dict\u001b[49m\u001b[43m[\u001b[49m\u001b[38;5;124;43m'\u001b[39;49m\u001b[38;5;124;43mer\u001b[39;49m\u001b[38;5;124;43m'\u001b[39;49m\u001b[43m]\u001b[49m[\u001b[38;5;241m41\u001b[39m]\n",
      "\u001b[1;31mKeyError\u001b[0m: 'er'"
     ]
    }
   ],
   "source": [
    "class_dict['er'][41]"
   ]
  },
  {
   "cell_type": "code",
   "execution_count": null,
   "id": "4bb994bb",
   "metadata": {},
   "outputs": [],
   "source": []
  }
 ],
 "metadata": {
  "kernelspec": {
   "display_name": "Python 3.10.6 64-bit",
   "language": "python",
   "name": "python3"
  },
  "language_info": {
   "codemirror_mode": {
    "name": "ipython",
    "version": 3
   },
   "file_extension": ".py",
   "mimetype": "text/x-python",
   "name": "python",
   "nbconvert_exporter": "python",
   "pygments_lexer": "ipython3",
   "version": "3.10.6"
  },
  "vscode": {
   "interpreter": {
    "hash": "a30a4be77f508384af2b6154f70e125aaf176fc66b2c028711e2ba23c42971ea"
   }
  }
 },
 "nbformat": 4,
 "nbformat_minor": 5
}
